{
 "cells": [
  {
   "cell_type": "code",
   "execution_count": null,
   "metadata": {},
   "outputs": [],
   "source": [
    "import numpy as np\n",
    "import math\n",
    "np.random.seed(1337)  # for reproducibility\n",
    "import h5py\n",
    "from sklearn.utils import class_weight"
   ]
  },
  {
   "cell_type": "code",
   "execution_count": null,
   "metadata": {},
   "outputs": [],
   "source": [
    "from keras.models import Sequential\n",
    "from keras.layers.advanced_activations import LeakyReLU\n",
    "from keras.layers import Dense, Dropout, CNN2D, Activation\n",
    "from keras.models import load_model\n",
    "from keras import backend as K\n",
    "from keras.layers import Flatten\n",
    "import tensorflow as tf"
   ]
  },
  {
   "cell_type": "markdown",
   "metadata": {},
   "source": [
    "# Read Input"
   ]
  },
  {
   "cell_type": "markdown",
   "metadata": {},
   "source": [
    "Creating a rolling window of 299 bp long all along the test chromosome, the offset is one bp"
   ]
  },
  {
   "cell_type": "code",
   "execution_count": null,
   "metadata": {},
   "outputs": [],
   "source": [
    "f = h5py.File('chr.hdf5','r')\n",
    "\n",
    "nucleotid = np.array(f[f.keys()[0]])\n",
    "\n",
    "f.close()"
   ]
  },
  {
   "cell_type": "code",
   "execution_count": null,
   "metadata": {},
   "outputs": [],
   "source": [
    "X_one_hot = (np.arange(nucleotid.max()) == nucleotid[...,None]-1).astype(int)"
   ]
  },
  {
   "cell_type": "code",
   "execution_count": null,
   "metadata": {},
   "outputs": [],
   "source": [
    "X_ = X_one_hot.reshape(X_one_hot.shape[0], X_one_hot.shape[1] * X_one_hot.shape[2])"
   ]
  },
  {
   "cell_type": "code",
   "execution_count": null,
   "metadata": {},
   "outputs": [],
   "source": [
    "np.shape(X_)"
   ]
  },
  {
   "cell_type": "code",
   "execution_count": null,
   "metadata": {},
   "outputs": [],
   "source": [
    "def rolling_window(array, window=(0,), asteps=None, wsteps=None, axes=None, toend=True):\n",
    "        array = np.asarray(array)\n",
    "        orig_shape = np.asarray(array.shape)\n",
    "        window = np.atleast_1d(window).astype(int) # maybe crude to cast to int...\n",
    "        \n",
    "        if axes is not None:\n",
    "            axes = np.atleast_1d(axes)\n",
    "            w = np.zeros(array.ndim, dtype=int)\n",
    "            for axis, size in zip(axes, window):\n",
    "                w[axis] = size\n",
    "            window = w\n",
    "        \n",
    "        # Check if window is legal:\n",
    "        if window.ndim > 1:\n",
    "            raise ValueError(\"`window` must be one-dimensional.\")\n",
    "        if np.any(window < 0):\n",
    "            raise ValueError(\"All elements of `window` must be larger than 1.\")\n",
    "        if len(array.shape) < len(window):\n",
    "            raise ValueError(\"`window` length must be less or equal `array` dimension.\") \n",
    "    \n",
    "        _asteps = np.ones_like(orig_shape)\n",
    "        if asteps is not None:\n",
    "            asteps = np.atleast_1d(asteps)\n",
    "            if asteps.ndim != 1:\n",
    "                raise ValueError(\"`asteps` must be either a scalar or one dimensional.\")\n",
    "            if len(asteps) > array.ndim:\n",
    "                raise ValueError(\"`asteps` cannot be longer then the `array` dimension.\")\n",
    "            # does not enforce alignment, so that steps can be same as window too.\n",
    "            _asteps[-len(asteps):] = asteps\n",
    "            \n",
    "            if np.any(asteps < 1):\n",
    "                 raise ValueError(\"All elements of `asteps` must be larger then 1.\")\n",
    "        asteps = _asteps\n",
    "        \n",
    "        _wsteps = np.ones_like(window)\n",
    "        if wsteps is not None:\n",
    "            wsteps = np.atleast_1d(wsteps)\n",
    "            if wsteps.shape != window.shape:\n",
    "                raise ValueError(\"`wsteps` must have the same shape as `window`.\")\n",
    "            if np.any(wsteps < 0):\n",
    "                 raise ValueError(\"All elements of `wsteps` must be larger then 0.\")\n",
    "    \n",
    "            _wsteps[:] = wsteps\n",
    "            _wsteps[window == 0] = 1 # make sure that steps are 1 for non-existing dims.\n",
    "        wsteps = _wsteps\n",
    "    \n",
    "        # Check that the window would not be larger than the original:\n",
    "        if np.any(orig_shape[-len(window):] < window * wsteps):\n",
    "            raise ValueError(\"`window` * `wsteps` larger then `array` in at least one dimension.\")\n",
    "    \n",
    "        new_shape = orig_shape # just renaming...\n",
    "        \n",
    "        # For calculating the new shape 0s must act like 1s:\n",
    "        _window = window.copy()\n",
    "        _window[_window==0] = 1\n",
    "        \n",
    "        new_shape[-len(window):] += wsteps - _window * wsteps\n",
    "        new_shape = (new_shape + asteps - 1) // asteps\n",
    "        # make sure the new_shape is at least 1 in any \\\"old\\\" dimension (ie. steps\n",
    "        # is (too) large, but we do not care.\n",
    "        new_shape[new_shape < 1] = 1\n",
    "        shape = new_shape\n",
    "        \n",
    "        strides = np.asarray(array.strides)\n",
    "        strides *= asteps\n",
    "        new_strides = array.strides[-len(window):] * wsteps\n",
    "        \n",
    "        # The full new shape and strides:\n",
    "        if toend:\n",
    "            new_shape = np.concatenate((shape, window))\n",
    "            new_strides = np.concatenate((strides, new_strides))\n",
    "        else:\n",
    "            _ = np.zeros_like(shape)\n",
    "            _[-len(window):] = window\n",
    "            _window = _.copy()\n",
    "            _[-len(window):] = new_strides\n",
    "            _new_strides = _\n",
    "            \n",
    "            new_shape = np.zeros(len(shape)*2, dtype=int)\n",
    "            new_strides = np.zeros(len(shape)*2, dtypenucleotid=int)\n",
    "            \n",
    "            new_shape[::2] = shape\n",
    "            new_strides[::2] = strides\n",
    "            new_shape[1::2] = _window\n",
    "            new_strides[1::2] = _new_strides\n",
    "        \n",
    "        new_strides = new_strides[new_shape != 0]\n",
    "        new_shape = new_shape[new_shape != 0]\n",
    "        \n",
    "        return np.lib.stride_tricks.as_strided(array, shape=new_shape, strides=new_strides)"
   ]
  },
  {
   "cell_type": "code",
   "execution_count": null,
   "metadata": {},
   "outputs": [],
   "source": [
    "wx = 299\n",
    "X_slide = rolling_window(X_, window=(wx,4), asteps=None, wsteps=None, axes=None, toend=True)"
   ]
  },
  {
   "cell_type": "code",
   "execution_count": null,
   "metadata": {},
   "outputs": [],
   "source": [
    "np.shape(X_slide)"
   ]
  },
  {
   "cell_type": "code",
   "execution_count": null,
   "metadata": {},
   "outputs": [],
   "source": [
    "X_ = X_slide.reshape(X_slide.shape[0], X_slide.shape[2], X_slide.shape[3], 1)"
   ]
  },
  {
   "cell_type": "code",
   "execution_count": null,
   "metadata": {},
   "outputs": [],
   "source": [
    "np.shape(X_)"
   ]
  },
  {
   "cell_type": "markdown",
   "metadata": {},
   "source": [
    "# Test on Entire chromosome"
   ]
  },
  {
   "cell_type": "code",
   "execution_count": null,
   "metadata": {},
   "outputs": [],
   "source": [
    "def MCC(y_true, y_pred):\n",
    "    y_pred_pos = K.round(K.clip(y_pred, 0, 1))\n",
    "    y_pred_neg = 1 - y_pred_pos\n",
    "\n",
    "    y_pos = K.round(K.clip(y_true, 0, 1))\n",
    "    y_neg = 1 - y_pos\n",
    "\n",
    "    tp = K.sum(y_pos * y_pred_pos)\n",
    "    tn = K.sum(y_neg * y_pred_neg)\n",
    "\n",
    "    fp = K.sum(y_neg * y_pred_pos)\n",
    "    fn = K.sum(y_pos * y_pred_neg)\n",
    "\n",
    "    numerator = (tp * tn - fp * fn)\n",
    "    denominator = K.sqrt((tp + fp) * (tp + fn) * (tn + fp) * (tn + fn))\n",
    "\n",
    "    return numerator / (denominator + K.epsilon())"
   ]
  },
  {
   "cell_type": "code",
   "execution_count": null,
   "metadata": {},
   "outputs": [],
   "source": [
    "model = load_model('weights.hdf5',custom_objects={'MCC':MCC })"
   ]
  },
  {
   "cell_type": "code",
   "execution_count": null,
   "metadata": {},
   "outputs": [],
   "source": [
    "pred = model.predict(X_)\n",
    "np.save('pred_chr', pred)"
   ]
  },
  {
   "cell_type": "markdown",
   "metadata": {},
   "source": [
    "# Analyses des résultats"
   ]
  },
  {
   "cell_type": "markdown",
   "metadata": {},
   "source": [
    "Calculate the area under the mean of the zscore of the prediction in function of the distance to a TSS curve."
   ]
  },
  {
   "cell_type": "code",
   "execution_count": null,
   "metadata": {},
   "outputs": [],
   "source": [
    "import matplotlib.pyplot as plt\n",
    "from scipy import stats"
   ]
  },
  {
   "cell_type": "code",
   "execution_count": null,
   "metadata": {},
   "outputs": [],
   "source": [
    "position = np.load('position_TSS_chr.npy')"
   ]
  },
  {
   "cell_type": "code",
   "execution_count": null,
   "metadata": {},
   "outputs": [],
   "source": [
    "pred_chr = np.load('pred_chr.npy')"
   ]
  },
  {
   "cell_type": "code",
   "execution_count": null,
   "metadata": {},
   "outputs": [],
   "source": [
    "X = stats.zscore(pred_chr)"
   ]
  },
  {
   "cell_type": "code",
   "execution_count": null,
   "metadata": {},
   "outputs": [],
   "source": [
    "X.reshape(X.shape[0])"
   ]
  },
  {
   "cell_type": "code",
   "execution_count": null,
   "metadata": {},
   "outputs": [],
   "source": [
    "length = 5000\n",
    "matrix = X[position[0]-length:position[0]+length]\n",
    "\n",
    "for i in position[1:] :\n",
    "    window = X[i-length:i+length]\n",
    "    window.reshape(2*length)\n",
    "    matrix = np.concatenate((window,matrix),axis=0)\n",
    "\n",
    "matrix = matrix.reshape(len(position),2*length)"
   ]
  },
  {
   "cell_type": "code",
   "execution_count": null,
   "metadata": {
    "scrolled": true
   },
   "outputs": [],
   "source": [
    "plt.figure()\n",
    "plt.imshow(matrix,extent=(0,1,0,1))\n",
    "plt.colorbar()\n",
    "plt.title(\"myTitle\")\n",
    "plt.show()\n"
   ]
  },
  {
   "cell_type": "code",
   "execution_count": null,
   "metadata": {},
   "outputs": [],
   "source": [
    "mean_matrix = stats.trim_mean(matrix, proportiontocut=0, axis=0)"
   ]
  },
  {
   "cell_type": "code",
   "execution_count": null,
   "metadata": {
    "scrolled": true
   },
   "outputs": [],
   "source": [
    "plt.plot(mean_matrix)\n",
    "plt.ylabel('mean z_score')\n",
    "plt.title(\"myTitle\")"
   ]
  },
  {
   "cell_type": "code",
   "execution_count": null,
   "metadata": {},
   "outputs": [],
   "source": [
    "area = trapz(mean_matrix[4000:6000])/600.\n",
    "print(\"area =\", area)"
   ]
  }
 ],
 "metadata": {
  "kernelspec": {
   "display_name": "Python 2",
   "language": "python",
   "name": "python2"
  },
  "language_info": {
   "codemirror_mode": {
    "name": "ipython",
    "version": 2
   },
   "file_extension": ".py",
   "mimetype": "text/x-python",
   "name": "python",
   "nbconvert_exporter": "python",
   "pygments_lexer": "ipython2",
   "version": "2.7.14"
  }
 },
 "nbformat": 4,
 "nbformat_minor": 2
}
