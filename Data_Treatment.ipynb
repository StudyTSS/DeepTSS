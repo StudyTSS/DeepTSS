{
 "cells": [
  {
   "cell_type": "code",
   "execution_count": null,
   "metadata": {},
   "outputs": [],
   "source": [
    "import csv\n",
    "import numpy as np\n",
    "np.random.seed(1337)  # for reproducibility\n",
    "import h5py\n",
    "import pandas as pd\n"
   ]
  },
  {
   "cell_type": "markdown",
   "metadata": {},
   "source": [
    "# Generating TSS regions\n",
    "\n",
    "Generate sequences of 299 bp long around each TSS : positively labeled sequences"
   ]
  },
  {
   "cell_type": "code",
   "execution_count": null,
   "metadata": {},
   "outputs": [],
   "source": [
    "# file which contains the TSS position on the genome with chromosome number\n",
    "# start, stop and strand as column\n",
    "refGene = pd.read_csv('refGene-new_mm10.csv', sep = ',')"
   ]
  },
  {
   "cell_type": "code",
   "execution_count": null,
   "metadata": {},
   "outputs": [],
   "source": [
    "index= range(1,23)\n",
    "\n",
    "for i in index:\n",
    "    \n",
    "    f = h5py.File('chr' + str(i) + '.hdf5','r')\n",
    "    seq = np.array(f[f.keys()[0]])\n",
    "    f.close()\n",
    "\n",
    "    refGene_parsed = refGene[(refGene.chr ==  'chr'+ str(i))]\n",
    "    refGene_parsed = refGene_parsed.drop_duplicates(subset=['start', 'stop'], keep='last')\n",
    "\n",
    "    refGene_parsed_start = refGene_parsed[(refGene_parsed.strand == '+')]\n",
    "    refGene_parsed_stop = refGene_parsed[(refGene_parsed.strand == '-')]\n",
    "\n",
    "    start = refGene_parsed_start['start'].values\n",
    "    stop = refGene_parsed_stop['stop'].values\n",
    "\n",
    "    sequ = seq.reshape(seq.shape[0],)\n",
    "    adn_sq = sequ.astype('int')\n",
    "    \n",
    "    X_slide = np.array([])\n",
    "    \n",
    "    # take 149 bp at each side of a TSS if strand is positive\n",
    "    for x in start:\n",
    "        n = 149\n",
    "        X_slide = np.append(X_slide, adn_sq[x-n:x+n+1])\n",
    "    X_slide_start = X_slide.reshape(X_slide.shape[0]/299, 299)\n",
    "    \n",
    "    X_slide = np.array([])\n",
    "    \n",
    "    # calculate the complementary sequence of nucleotid if the strand is negative\n",
    "    # and take 149 bp at each side of the TSS\n",
    "    for x in stop:\n",
    "        n = 149\n",
    "        X_slide = np.append(X_slide, adn_sq[x-n:x+n+1])\n",
    "    X_slide_stop = X_slide.reshape(X_slide.shape[0]/299, 299)  \n",
    "\n",
    "    np.place(X_slide_stop, X_slide_stop==1., [5])\n",
    "    np.place(X_slide_stop, X_slide_stop==2., [6])\n",
    "    np.place(X_slide_stop, X_slide_stop==3., [7])\n",
    "    np.place(X_slide_stop, X_slide_stop==4., [8])\n",
    "\n",
    "    np.place(X_slide_stop, X_slide_stop==5., [2])\n",
    "    np.place(X_slide_stop, X_slide_stop==6., [1])\n",
    "    np.place(X_slide_stop, X_slide_stop==7., [4])\n",
    "    np.place(X_slide_stop, X_slide_stop==8., [3])\n",
    "    \n",
    "    \n",
    "    reverse = np.flip(X_slide_stop, axis=1)\n",
    "    \n",
    "    \n",
    "    X1 = np.append(X_slide_start, reverse, axis=0)\n",
    "    \n",
    "\n",
    "    if (i == 1):\n",
    "        res = X1\n",
    "    else:\n",
    "        res = np.append(res, X1, axis=0)"
   ]
  },
  {
   "cell_type": "code",
   "execution_count": null,
   "metadata": {},
   "outputs": [],
   "source": [
    "np.save('X0.npy',res)"
   ]
  },
  {
   "cell_type": "markdown",
   "metadata": {},
   "source": [
    "# Generating non-TSS regions \n",
    "Generate n times more negatively labeled sequences in non TSS regions (299 bp away from any TSS)"
   ]
  },
  {
   "cell_type": "code",
   "execution_count": null,
   "metadata": {},
   "outputs": [],
   "source": [
    "# Convert a numpy array to multi array and if the shape is not correct then reshape it by removing x starting elements.\n",
    "\n",
    "def convert_array_to_multi(myArray, number_of_lines, number_of_column) :\n",
    "    \n",
    "    if (len(myArray) != number_of_lines * number_of_column):\n",
    "        #if the array has not the right shape, then reshape it by removing x starting elements\n",
    "        resized_array = np.delete(myArray, range(0,len(myArray) - (number_of_lines * number_of_column ) ) , 0)\n",
    "        res = np.reshape(resized_array,(number_of_lines,number_of_column))\n",
    "    else:\n",
    "        res = np.reshape(myArray,(number_of_lines,number_of_column))\n",
    "        \n",
    "    return res\n",
    "\n",
    "\n",
    "\n",
    "# reorganize a multi array by putting elements list in random\n",
    "\n",
    "def reorganize_random_multi_array(myArray) :\n",
    "    \n",
    "    rand = np.random.choice(len(myArray), len(myArray), replace=False) # create an array of random indexes btw 0 and len(myArray)\n",
    "    res = myArray[rand]\n",
    "    \n",
    "    return res"
   ]
  },
  {
   "cell_type": "code",
   "execution_count": null,
   "metadata": {},
   "outputs": [],
   "source": [
    "\n",
    "# n: the ratio of negative samples to the balanced data \n",
    "n = 100\n",
    "index= range(1,23)\n",
    "\n",
    "for i in index:\n",
    "    \n",
    "    f = h5py.File('chr' + str(i) + '.hdf5','r')\n",
    "    seq = np.array(f[f.keys()[0]])\n",
    "    f.close()\n",
    "\n",
    "    refGene_parsed = refGene_new[(refGene_new.chr == 'chr'+str(i))]\n",
    "    refGene_parsed_ = refGene_parsed.drop_duplicates(subset=['start', 'stop'], keep='last')\n",
    "    refGene_parsed_start = refGene_parsed_[(refGene_parsed_.strand == '+')]\n",
    "    refGene_parsed_stop = refGene_parsed_[(refGene_parsed_.strand == '-')]\n",
    "\n",
    "    start = refGene_parsed_start['start'].values\n",
    "    stop = refGene_parsed_stop['stop'].values\n",
    "\n",
    "    positions = np.append(start, stop)\n",
    "    \n",
    "    # delete sequence of 149*2 bp long at each side of a TSS\n",
    "    del_range = 149*2\n",
    "\n",
    "    del_arr_inc = np.array([])\n",
    "    del_arr_dec = np.array([])\n",
    "    for num in range(1,del_range+1):\n",
    "        del_arr_inc = np.concatenate((del_arr_inc,[x+num for x in positions]),axis=0)\n",
    "        del_arr_dec = np.concatenate((del_arr_dec,[x-num for x in positions]),axis=0)\n",
    "        \n",
    "    del_arr = np.concatenate((del_arr_dec, positions),axis=0)\n",
    "    del_arr = np.concatenate((del_arr,del_arr_inc),axis=0)\n",
    "    del_arr = del_arr[del_arr >= 0] # Remove Negative\n",
    "    \n",
    "    C = np.delete(seq, del_arr)\n",
    "    C_index = np.delete(range(0,len(seq)), del_arr) \n",
    "\n",
    "    # the maximum negatively labeled sequence we can take is len(C) / 299\n",
    "    m = len(positions)*n\n",
    "    if (m*299 > len(C)):\n",
    "        m = int(len(C) // 299)\n",
    "    \n",
    "    conv_array = convert_array_to_multi(C, m, 299)\n",
    "    \n",
    "    if (i == 1):\n",
    "        res = reorganize_random_multi_array(conv_array)\n",
    "    else:\n",
    "        res = np.append(res, reorganize_random_multi_array(conv_array), axis=0)\n"
   ]
  },
  {
   "cell_type": "code",
   "execution_count": null,
   "metadata": {},
   "outputs": [],
   "source": [
    "np.save('X1.npy',res)"
   ]
  }
 ],
 "metadata": {
  "kernelspec": {
   "display_name": "Python 2",
   "language": "python",
   "name": "python2"
  },
  "language_info": {
   "codemirror_mode": {
    "name": "ipython",
    "version": 2
   },
   "file_extension": ".py",
   "mimetype": "text/x-python",
   "name": "python",
   "nbconvert_exporter": "python",
   "pygments_lexer": "ipython2",
   "version": "2.7.14"
  }
 },
 "nbformat": 4,
 "nbformat_minor": 2
}
