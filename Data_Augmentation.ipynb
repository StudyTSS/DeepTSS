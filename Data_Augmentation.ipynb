{
 "cells": [
  {
   "cell_type": "code",
   "execution_count": 36,
   "metadata": {},
   "outputs": [],
   "source": [
    "import csv\n",
    "import numpy as np\n",
    "np.random.seed(1337)  # for reproducibility\n",
    "import pandas as pd\n",
    "import h5py\n",
    "import math"
   ]
  },
  {
   "cell_type": "code",
   "execution_count": 37,
   "metadata": {},
   "outputs": [],
   "source": [
    "# file which contains the TSS position on the genome with chromosome number\n",
    "# start, stop and strand as column\n",
    "refGene = pd.read_csv('refGene-new_mm10.csv', sep = ',')"
   ]
  },
  {
   "cell_type": "code",
   "execution_count": 38,
   "metadata": {},
   "outputs": [],
   "source": [
    "def get_item_of_index(myArray, indexArray) :\n",
    "    # get the item of desired index into an Array\n",
    "    \n",
    "    res = []\n",
    "    \n",
    "    for x in range (0, len(indexArray)):\n",
    "        res.append([])\n",
    "        tmp = myArray[indexArray[x]]\n",
    "        res[x].append(tmp)\n",
    "        \n",
    "    return res\n",
    "\n",
    "\n",
    "def reorganize_random_multi_array(myArray) :\n",
    "    # shuffle the elements of an array\n",
    "    \n",
    "    rand = np.random.choice(myArray.shape[0], len(myArray), replace=False) \n",
    "    \n",
    "    \n",
    "    res = myArray[rand]\n",
    "    \n",
    "    return res\n",
    "\n",
    "\n",
    "def sliding_window(positions, elm_range) :\n",
    "    # take an array as input and outputs\n",
    "    # a serie of array of elm_range long around each position\n",
    "    # of the input array\n",
    "    \n",
    "    myModel_range = []\n",
    "    \n",
    "    for x in range (0, len(positions)):\n",
    "        myModel_range.append([])\n",
    "        elm = positions[x]\n",
    "        \n",
    "        for y in range(-elm_range, elm_range+1):\n",
    "            myModel_range[x].append(elm + y)\n",
    "\n",
    "    \n",
    "    return myModel_range\n",
    "\n"
   ]
  },
  {
   "cell_type": "markdown",
   "metadata": {},
   "source": [
    "## Generating TSS class\n",
    " Generate 299 sequences of 299 bp long with a step of 1 bp around each TSS : data augmentation of positive label"
   ]
  },
  {
   "cell_type": "code",
   "execution_count": 41,
   "metadata": {},
   "outputs": [],
   "source": [
    "index = range(1,23)\n",
    "\n",
    "for i in index:\n",
    "   \n",
    "    f = h5py.File('chr' + str(i) + '.hdf5','r')\n",
    "    sequence_chr = np.array(f[f.keys()[0]])\n",
    "    f.close()\n",
    "\n",
    "    refGene_parsed = refGene[(refGene.chr ==  'chr'+ str(i))]\n",
    "    refGene_parsed = refGene_parsed.drop_duplicates(subset=['start', 'stop'], keep='last')\n",
    "\n",
    "    refGene_parsed_start = refGene_parsed[(refGene_parsed.strand == '+')]\n",
    "    refGene_parsed_stop = refGene_parsed[(refGene_parsed.strand == '-')]\n",
    "\n",
    "    start = refGene_parsed_start['start'].values\n",
    "    stop = refGene_parsed_stop['stop'].values\n",
    "    all_strands = np.append(start,stop)\n",
    "\n",
    "    sequence_chr = sequence_chr.reshape(sequence_chr.shape[0],)\n",
    "    adn_sequence = sequence_chr.astype('int')\n",
    "\n",
    "\n",
    "    Seq = adn_sequence\n",
    "    myRng = 149\n",
    "    \n",
    "    # Create a rolling window of sequences of 299 bp long around each TSS \n",
    "    # if strand is positive.\n",
    "    \n",
    "    tmp1 = []\n",
    "    tmp2 = []\n",
    "\n",
    "    for y in range (0, len(start)):\n",
    "        for x in range (0, myRng):\n",
    "            tmp1 = np.append(tmp1, start[y]+ x + 1)\n",
    "            tmp2 = np.append(tmp2, start[y]- x - 1)\n",
    "        \n",
    "        tmp = np.append(tmp2, start[y])\n",
    "        tmp = np.append(tmp, tmp1)\n",
    "        tmp = tmp.astype(int)\n",
    "\n",
    "\n",
    "    myPos_start = tmp\n",
    "    res_slide_start = sliding_window(myPos_start, myRng)\n",
    "    res_start = np.array(get_item_of_index(Seq, res_slide_start))\n",
    "    \n",
    "    # Create sequences and take the complementary sequence of nucleotid\n",
    "    # if strand is negative.\n",
    "\n",
    "    tmp1 = []\n",
    "    tmp2 = []\n",
    "\n",
    "    for y in range (0, len(stop)):\n",
    "        for x in range (0, myRng):\n",
    "            tmp1 = np.append(tmp1, stop[y]+ x + 1)\n",
    "            tmp2 = np.append(tmp2, stop[y]- x - 1)\n",
    "        \n",
    "        tmp = np.append(tmp2, stop[y])\n",
    "        tmp = np.append(tmp, tmp1)\n",
    "        tmp = tmp.astype(int)\n",
    "    \n",
    "\n",
    "    myPos_stop = tmp\n",
    "    res_slide_stop = sliding_window(myPos_stop, myRng)\n",
    "    res_stop = np.array(get_item_of_index(Seq, res_slide_stop))\n",
    "    \n",
    "    np.place(res_stop, res_stop==1, [5])\n",
    "    np.place(res_stop, res_stop==2, [6])\n",
    "    np.place(res_stop, res_stop==3, [7])\n",
    "    np.place(res_stop, res_stop==4, [8])\n",
    "\n",
    "    np.place(res_stop, res_stop==5, [2])\n",
    "    np.place(res_stop, res_stop==6, [1])\n",
    "    np.place(res_stop, res_stop==7, [4])\n",
    "    np.place(res_stop, res_stop==8, [3])\n",
    "    \n",
    "    res_stop = np.flip(res_stop, axis=0)\n",
    "    \n",
    "    res_fin = np.append(res_stop, res_start, axis = 0)\n",
    "    \n",
    "    if (i == 1):\n",
    "        res = res_fin\n",
    "    else:\n",
    "        res = np.append(res, np.array(res_fin), axis=0)\n",
    "\n",
    "final_array = res.reshape(res.shape[0],res.shape[2])"
   ]
  },
  {
   "cell_type": "code",
   "execution_count": 42,
   "metadata": {},
   "outputs": [
    {
     "data": {
      "text/plain": [
       "(1125550, 299)"
      ]
     },
     "execution_count": 42,
     "metadata": {},
     "output_type": "execute_result"
    }
   ],
   "source": [
    "np.save('X0.npy', final_array)"
   ]
  },
  {
   "cell_type": "markdown",
   "metadata": {},
   "source": [
    "## Generating non-TSS class\n",
    "Generate a shuffled array of sequences of 299 bp long in the whole non TSS region"
   ]
  },
  {
   "cell_type": "code",
   "execution_count": 27,
   "metadata": {},
   "outputs": [
    {
     "name": "stderr",
     "output_type": "stream",
     "text": [
      "/users/invites/routhier/anaconda2/envs/ipykernel_py2/lib/python2.7/site-packages/ipykernel_launcher.py:33: DeprecationWarning: using a non-integer array as obj in delete will result in an error in the future\n"
     ]
    }
   ],
   "source": [
    "index= range(1,3)\n",
    "\n",
    "for i in index:\n",
    "    f = h5py.File('chr' + str(i) + '.hdf5','r')\n",
    "    seq = np.array(f[f.keys()[0]])\n",
    "    f.close()\n",
    "   \n",
    "    refGene_parsed_ = refGene[(refGene.chr ==  'chr'+ str(i))]\n",
    "    refGene_parsed_ = refGene_parsed_.drop_duplicates(subset=['start', 'stop'], keep='last')\n",
    "\n",
    "    refGene_parsed_start_ = refGene_parsed_[(refGene_parsed_.strand == '+')]\n",
    "    refGene_parsed_stop_ = refGene_parsed_[(refGene_parsed_.strand == '-')]\n",
    "\n",
    "    start = refGene_parsed_start_['start'].values\n",
    "    stop = refGene_parsed_stop_['stop'].values\n",
    "    positions = np.append(start, stop)\n",
    "    \n",
    "    del_range = 299*2\n",
    "\n",
    "    del_arr_inc = np.array([])\n",
    "    del_arr_dec = np.array([])\n",
    "    \n",
    "    for num in range(1,del_range+1):\n",
    "        del_arr_inc = np.concatenate((del_arr_inc,[x+num for x in positions]),axis=0)\n",
    "        del_arr_dec = np.concatenate((del_arr_dec,[x-num for x in positions]),axis=0)\n",
    "    \n",
    "    del_arr = np.concatenate((del_arr_dec, positions),axis=0)\n",
    "    del_arr = np.concatenate((del_arr,del_arr_inc),axis=0)\n",
    "    del_arr = del_arr[del_arr >= 0] # Remove Negatives\n",
    "    \n",
    "    final_del_array = np.delete(seq, del_arr)\n",
    "\n"
   ]
  },
  {
   "cell_type": "code",
   "execution_count": 34,
   "metadata": {},
   "outputs": [],
   "source": [
    "end = int(math.fmod(final_del_array.shape[0],299))\n",
    "final_del_array = final_del_array[:-end]\n",
    "\n",
    "X_slide = final_del_array.reshape(int(final_del_array.shape[0]//299.),299)"
   ]
  },
  {
   "cell_type": "code",
   "execution_count": 30,
   "metadata": {},
   "outputs": [
    {
     "data": {
      "text/plain": [
       "(600985, 299)"
      ]
     },
     "execution_count": 30,
     "metadata": {},
     "output_type": "execute_result"
    }
   ],
   "source": [
    "X_slide.shape"
   ]
  },
  {
   "cell_type": "code",
   "execution_count": 32,
   "metadata": {},
   "outputs": [],
   "source": [
    "X_0 = reorganize_random_multi_array(X_slide)"
   ]
  },
  {
   "cell_type": "code",
   "execution_count": null,
   "metadata": {},
   "outputs": [],
   "source": [
    "np.save('X1.npy', X_slide)"
   ]
  }
 ],
 "metadata": {
  "kernelspec": {
   "display_name": "Python 2",
   "language": "python",
   "name": "python2"
  },
  "language_info": {
   "codemirror_mode": {
    "name": "ipython",
    "version": 2
   },
   "file_extension": ".py",
   "mimetype": "text/x-python",
   "name": "python",
   "nbconvert_exporter": "python",
   "pygments_lexer": "ipython2",
   "version": "2.7.14"
  }
 },
 "nbformat": 4,
 "nbformat_minor": 2
}
